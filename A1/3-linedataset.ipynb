{
 "cells": [
  {
   "cell_type": "code",
   "execution_count": 1,
   "metadata": {},
   "outputs": [],
   "source": [
    "import numpy as np\n",
    "import pandas as pd\n",
    "import cv2\n",
    "import glob\n",
    "import os\n",
    "\n",
    "x=np.empty([1000,28,28,3])\n",
    "y=np.empty([1000,96])\n",
    "g=np.empty([1000,96])\n",
    "y_int=np.empty([1000])\n",
    "g_int=np.empty([1000])\n",
    "\n",
    "first = 1\n",
    "for root, dirs, files in os.walk(\"/Users/momo/Downloads/openCV\"):\n",
    "\tos.chdir(root)\n",
    "\timages = np.array([cv2.imread(file) for file in glob.glob(root+\"/*.jpg\")])\n",
    "\tnum_of_images=images.shape[0]\n",
    "\tif num_of_images == 0:\n",
    "\t\tcontinue\n",
    "\telse:\n",
    "\t\tif first == 1:\n",
    "\t\t\tx = images\n",
    "\t\t\tname = os.path.basename(os.path.normpath(root))\n",
    "\t\t\ty.fill(0)\n",
    "\t\t\tnum=0\n",
    "\t\t\tfor i in range(0,999):\n",
    "\t\t\t\ty[i,num]=1\n",
    "\t\t\ty_int.fill(num)\n",
    "\t\t\td={'strname':name,'intname':num}\n",
    "\t\t\tcorr = pd.DataFrame(data = d,index=[num])\n",
    "\t\t\tfirst = 0\n",
    "\t\t\tnum=num+1\n",
    "\t\telse:\n",
    "\t\t\tx = np.concatenate((x,images),axis=0)\n",
    "\t\t\tname = os.path.basename(os.path.normpath(root))\n",
    "\t\t\tg.fill(0)\n",
    "\t\t\tfor i in range(0,999):\n",
    "\t\t\t\tg[i,num]=1\n",
    "\t\t\ty=np.concatenate((y,g),axis=0)\n",
    "\t\t\tg_int.fill(num)\n",
    "\t\t\ty_int=np.concatenate((y_int,g_int),axis=0)\n",
    "\t\t\td={'strname' : name,'intname':num}\n",
    "\t\t\tnewcorr = pd.DataFrame(data = d,index=[num])\n",
    "\t\t\tcorr = corr.append(newcorr)\n",
    "\t\t\tnum=num+1\n",
    "x=np.reshape(x,[96000,2352])\n",
    "from sklearn.model_selection import train_test_split\n",
    "x_train, x_test, y_train, y_test,y_int_train,y_int_test = train_test_split(x, y, y_int, test_size=0.25, random_state=42)"
   ]
  },
  {
   "cell_type": "code",
   "execution_count": 2,
   "metadata": {},
   "outputs": [],
   "source": [
    "def get_batch(inputX, inputY,inputZ, batch_size):\n",
    "    duration = len(inputX)\n",
    "    for i in range(0,duration//batch_size):\n",
    "        idx = i*batch_size\n",
    "        yield inputX[idx:idx+batch_size], inputY[idx:idx+batch_size],inputZ[idx:idx+batch_size]"
   ]
  },
  {
   "cell_type": "code",
   "execution_count": 3,
   "metadata": {},
   "outputs": [],
   "source": [
    "%matplotlib inline\n",
    "import matplotlib.pyplot as plt\n",
    "import tensorflow as tf\n",
    "import numpy as np\n",
    "from sklearn.metrics import confusion_matrix"
   ]
  },
  {
   "cell_type": "code",
   "execution_count": 4,
   "metadata": {},
   "outputs": [],
   "source": [
    "img_size_flat = 2352\n",
    "num_classes = 96"
   ]
  },
  {
   "cell_type": "code",
   "execution_count": 5,
   "metadata": {},
   "outputs": [],
   "source": [
    "x = tf.placeholder(tf.float32, [None, img_size_flat])"
   ]
  },
  {
   "cell_type": "code",
   "execution_count": 6,
   "metadata": {},
   "outputs": [],
   "source": [
    "y_true = tf.placeholder(tf.float32, [None, num_classes])"
   ]
  },
  {
   "cell_type": "code",
   "execution_count": 7,
   "metadata": {},
   "outputs": [],
   "source": [
    "y_true_cls = tf.placeholder(tf.int64, [None])"
   ]
  },
  {
   "cell_type": "code",
   "execution_count": 8,
   "metadata": {},
   "outputs": [],
   "source": [
    "def new_FC_layer(x,units,activation,use_bias,name,reuse):\n",
    "        num_ip = int(x.shape[1])\n",
    "        num_op = units\n",
    "        \n",
    "        #kernel initializer\n",
    "        #if kernel_initializer==xavier_initializer:\n",
    "        #    initializer = tf.contrib.layers.xavier_initializer\n",
    "        #    weight = tf.Variable(initializer([num_ip, num_op]),name='Weight')\n",
    "        #else:\n",
    "        \n",
    "        if name:\n",
    "            if reuse == True:\n",
    "                with tf.variable_scope(name,reuse = tf.AUTO_REUSE):\n",
    "                    weight = tf.get_variable(\"Weight\",[num_ip, num_op],initializer=tf.zeros_initializer)\n",
    "                    bias = tf.get_variable(\"Bias\",[num_op],initializer=tf.zeros_initializer)\n",
    "            else:\n",
    "                with tf.variable_scope(name):\n",
    "                    weight = tf.get_variable(\"Weight\",[num_ip, num_op],initializer=tf.zeros_initializer)\n",
    "                    bias = tf.get_variable(\"Bias\",[num_op],initializer=tf.zeros_initializer)\n",
    "        else:\n",
    "            weight = tf.get_variable(\"Weight\",[num_ip, num_op],initializer=tf.zeros_initializer)\n",
    "            bias = tf.get_variable(\"Bias\",[num_op],initializer=tf.zeros_initializer)\n",
    "        \n",
    "        if use_bias==False:\n",
    "            layer = tf.matmul(x,weight)\n",
    "        else:\n",
    "            layer = tf.add(tf.matmul(x,weight),bias)\n",
    "        if activation:\n",
    "            layer = activation(layer)\n",
    "        return layer"
   ]
  },
  {
   "cell_type": "code",
   "execution_count": 9,
   "metadata": {},
   "outputs": [],
   "source": [
    "#h_layer1 = new_FC_layer(x,500,activation = tf.nn.sigmoid,use_bias=True,name='h_layer1',reuse=False)"
   ]
  },
  {
   "cell_type": "code",
   "execution_count": 10,
   "metadata": {},
   "outputs": [],
   "source": [
    "#h_layer2= new_FC_layer(h_layer1,512,activation = tf.nn.relu,use_bias=True,name ='h_layer2',reuse=False)"
   ]
  },
  {
   "cell_type": "code",
   "execution_count": 11,
   "metadata": {},
   "outputs": [],
   "source": [
    "#h_layer3= new_FC_layer(h_layer2,512,activation = tf.nn.relu,use_bias=True,name ='h_layer2',reuse=True)"
   ]
  },
  {
   "cell_type": "code",
   "execution_count": 12,
   "metadata": {},
   "outputs": [
    {
     "name": "stdout",
     "output_type": "stream",
     "text": [
      "WARNING:tensorflow:From /Users/momo/.virtualenvs/cv/lib/python3.6/site-packages/tensorflow/python/framework/op_def_library.py:263: colocate_with (from tensorflow.python.framework.ops) is deprecated and will be removed in a future version.\n",
      "Instructions for updating:\n",
      "Colocations handled automatically by placer.\n"
     ]
    }
   ],
   "source": [
    "logits = new_FC_layer(x,num_classes,activation = None,use_bias=True,name='op_layer',reuse=True)"
   ]
  },
  {
   "cell_type": "code",
   "execution_count": 13,
   "metadata": {},
   "outputs": [],
   "source": [
    "#tf.global_variables()"
   ]
  },
  {
   "cell_type": "code",
   "execution_count": 14,
   "metadata": {},
   "outputs": [],
   "source": [
    "y_pred = tf.nn.softmax(logits)"
   ]
  },
  {
   "cell_type": "code",
   "execution_count": 15,
   "metadata": {},
   "outputs": [],
   "source": [
    "y_pred_cls = tf.argmax(y_pred, axis=1)"
   ]
  },
  {
   "cell_type": "code",
   "execution_count": 16,
   "metadata": {},
   "outputs": [],
   "source": [
    "cross_entropy = tf.nn.softmax_cross_entropy_with_logits_v2(logits=logits,\n",
    "                                                           labels=y_true)"
   ]
  },
  {
   "cell_type": "code",
   "execution_count": 17,
   "metadata": {},
   "outputs": [],
   "source": [
    "cost = tf.reduce_mean(cross_entropy)"
   ]
  },
  {
   "cell_type": "code",
   "execution_count": 18,
   "metadata": {},
   "outputs": [],
   "source": [
    "optimizer = tf.train.GradientDescentOptimizer(learning_rate=0.5).minimize(cost)"
   ]
  },
  {
   "cell_type": "code",
   "execution_count": 19,
   "metadata": {},
   "outputs": [],
   "source": [
    "correct_prediction = tf.equal(y_pred_cls, y_true_cls)"
   ]
  },
  {
   "cell_type": "code",
   "execution_count": 20,
   "metadata": {},
   "outputs": [],
   "source": [
    "accuracy = tf.reduce_mean(tf.cast(correct_prediction, tf.float32))"
   ]
  },
  {
   "cell_type": "code",
   "execution_count": 21,
   "metadata": {},
   "outputs": [],
   "source": [
    "session= tf.Session()"
   ]
  },
  {
   "cell_type": "code",
   "execution_count": 22,
   "metadata": {},
   "outputs": [],
   "source": [
    "session.run(tf.global_variables_initializer())"
   ]
  },
  {
   "cell_type": "code",
   "execution_count": 23,
   "metadata": {},
   "outputs": [],
   "source": [
    "batch_size = 100"
   ]
  },
  {
   "cell_type": "code",
   "execution_count": 24,
   "metadata": {},
   "outputs": [],
   "source": [
    "feed_dict_test = {x: x_test,\n",
    "                  y_true: y_test,\n",
    "                  y_true_cls: y_int_test}"
   ]
  },
  {
   "cell_type": "code",
   "execution_count": 25,
   "metadata": {},
   "outputs": [],
   "source": [
    "def optimize(num_iterations):\n",
    "    loss_list=[]\n",
    "    acc_list=[]\n",
    "    for i in range(num_iterations):\n",
    "        batch = get_batch(x_train, y_train,y_int_train, batch_size)\n",
    "        x_batch, y_true_batch,y_int_batch = next(batch)\n",
    "        feed_dict_train = {x: x_batch,\n",
    "                           y_true: y_true_batch}\n",
    "        session.run(optimizer, feed_dict=feed_dict_train)\n",
    "        if i % 100 == 0:\n",
    "            loss=session.run(cost, feed_dict=feed_dict_train)\n",
    "            acc = session.run(accuracy, feed_dict=feed_dict_test)\n",
    "            loss_list.append(loss)\n",
    "            acc_list.append(acc)\n",
    "            plt.plot(loss_list)\n",
    "            plt.plot(acc_list)"
   ]
  },
  {
   "cell_type": "code",
   "execution_count": 26,
   "metadata": {},
   "outputs": [],
   "source": [
    "def print_accuracy():\n",
    "    acc = session.run(accuracy, feed_dict=feed_dict_test)\n",
    "    print(\"Accuracy on test-set: {0:.1%}\".format(acc))"
   ]
  },
  {
   "cell_type": "code",
   "execution_count": 27,
   "metadata": {},
   "outputs": [],
   "source": [
    "def print_confusion_matrix():\n",
    "    cls_true = y_int_test\n",
    "    cls_pred = session.run(y_pred_cls, feed_dict=feed_dict_test)\n",
    "    cm = confusion_matrix(y_true=cls_true,\n",
    "                          y_pred=cls_pred)\n",
    "    print(cm)\n",
    "    plt.imshow(cm, interpolation='nearest', cmap=plt.cm.Blues)\n",
    "    plt.tight_layout()\n",
    "    plt.colorbar()\n",
    "    tick_marks = np.arange(num_classes)\n",
    "    plt.xticks(tick_marks, range(num_classes))\n",
    "    plt.yticks(tick_marks, range(num_classes))\n",
    "    plt.xlabel('Predicted')\n",
    "    plt.ylabel('True')\n",
    "    plt.show()\n",
    "    return(cm)"
   ]
  },
  {
   "cell_type": "code",
   "execution_count": 28,
   "metadata": {},
   "outputs": [],
   "source": [
    "def find_performance_matrix(cm):\n",
    "    \n",
    "    performance_matrix = [[0, 0, 0], [0, 0, 0], [0, 0, 0], [0, 0, 0],[0, 0, 0], [0, 0, 0], [0, 0, 0], [0, 0, 0], [0, 0, 0], [0, 0, 0], [0, 0, 0]]\n",
    "    for class_num in range(10):\n",
    "        performance_matrix[class_num][0] = find_precision(cm, class_num)\n",
    "    for class_num in range(10):\n",
    "        performance_matrix[class_num][1] = find_recall_rate(cm, class_num)\n",
    "    for class_num in range(10):\n",
    "        performance_matrix[class_num][2] = find_f_score(performance_matrix[class_num])\n",
    "\n",
    "    #find mean precision, mean recall rate and mean f score\n",
    "    for metric in range(3):\n",
    "        total = 0\n",
    "        for i in range(10):\n",
    "            total += performance_matrix[i][metric]\n",
    "\n",
    "        performance_matrix[10][metric] = total / 10\n",
    "\n",
    "    round_off_performance_matrix(performance_matrix)\n",
    "\n",
    "    return performance_matrix\n",
    "\n",
    "def round_off_performance_matrix(performance_matrix):\n",
    "    for i in range(len(performance_matrix)):\n",
    "        for j in range(len(performance_matrix[i])):\n",
    "            performance_matrix[i][j] = round(performance_matrix[i][j], 2)\n",
    "\n",
    "\n",
    "def find_precision(cm, class_num):\n",
    "    total_samples_classfied_as_class_num = 0\n",
    "    for i in range(10):\n",
    "        total_samples_classfied_as_class_num += cm[i][class_num]\n",
    "    precision_rate = (cm[class_num][class_num] / total_samples_classfied_as_class_num) * 100\n",
    "\n",
    "    return precision_rate\n",
    "\n",
    "def find_recall_rate(cm, class_num):\n",
    "    total_samples_in_class = 0\n",
    "    for j in range(10):\n",
    "        total_samples_in_class += cm[class_num][j]\n",
    "    recall_rate = (cm[class_num][class_num] / total_samples_in_class) * 100\n",
    "\n",
    "    return recall_rate\n",
    "\n",
    "def find_f_score(array):\n",
    "    precision = array[0]\n",
    "    recall = array[1]\n",
    "    f_score = (precision * recall) / ((precision + recall) / 2)\n",
    "\n",
    "    return f_score"
   ]
  },
  {
   "cell_type": "code",
   "execution_count": 29,
   "metadata": {},
   "outputs": [
    {
     "name": "stdout",
     "output_type": "stream",
     "text": [
      "Accuracy on test-set: 1.1%\n"
     ]
    }
   ],
   "source": [
    "print_accuracy()"
   ]
  },
  {
   "cell_type": "code",
   "execution_count": 30,
   "metadata": {},
   "outputs": [
    {
     "data": {
      "image/png": "[encoded data removed]",
      "text/plain": [
       "<Figure size 432x288 with 1 Axes>"
      ]
     },
     "metadata": {
      "needs_background": "light"
     },
     "output_type": "display_data"
    }
   ],
   "source": [
    "optimize(num_iterations=10000)"
   ]
  },
  {
   "cell_type": "code",
   "execution_count": 31,
   "metadata": {},
   "outputs": [
    {
     "name": "stdout",
     "output_type": "stream",
     "text": [
      "Accuracy on test-set: 5.5%\n"
     ]
    }
   ],
   "source": [
    "print_accuracy()"
   ]
  },
  {
   "cell_type": "code",
   "execution_count": 32,
   "metadata": {},
   "outputs": [
    {
     "name": "stdout",
     "output_type": "stream",
     "text": [
      "[[ 0  0  0 ...  0  0  0]\n",
      " [ 0  0  0 ...  0  0  0]\n",
      " [ 0  0  3 ...  0  0  8]\n",
      " ...\n",
      " [ 0  0 11 ...  0  0  9]\n",
      " [ 0  0  0 ...  0  0  0]\n",
      " [ 0  0 14 ...  0  0 18]]\n"
     ]
    },
    {
     "data": {
      "image/png": "[encoded data removed]",
      "text/plain": [
       "<Figure size 432x288 with 2 Axes>"
      ]
     },
     "metadata": {
      "needs_background": "light"
     },
     "output_type": "display_data"
    }
   ],
   "source": [
    "cm = print_confusion_matrix()"
   ]
  },
  {
   "cell_type": "code",
   "execution_count": 33,
   "metadata": {},
   "outputs": [
    {
     "name": "stdout",
     "output_type": "stream",
     "text": [
      "[[nan, nan, nan], [nan, 0.0, nan], [10.71, 25.0, 15.0], [nan, 0.0, nan], [nan, 0.0, nan], [17.02, 61.54, 26.67], [100.0, 10.53, 19.05], [50.0, 100.0, 66.67], [100.0, 16.67, 28.57], [46.67, 100.0, 63.64], [nan, nan, nan]]\n"
     ]
    },
    {
     "name": "stderr",
     "output_type": "stream",
     "text": [
      "/Users/momo/.virtualenvs/cv/lib/python3.6/site-packages/ipykernel_launcher.py:33: RuntimeWarning: invalid value encountered in long_scalars\n",
      "/Users/momo/.virtualenvs/cv/lib/python3.6/site-packages/ipykernel_launcher.py:41: RuntimeWarning: invalid value encountered in long_scalars\n"
     ]
    }
   ],
   "source": [
    "pm = find_performance_matrix(cm)\n",
    "print(pm)"
   ]
  },
  {
   "cell_type": "code",
   "execution_count": 34,
   "metadata": {},
   "outputs": [
    {
     "name": "stdout",
     "output_type": "stream",
     "text": [
      "nan\n"
     ]
    }
   ],
   "source": [
    "f_score = pm[-1][-1]\n",
    "print(f_score)"
   ]
  },
  {
   "cell_type": "code",
   "execution_count": 35,
   "metadata": {},
   "outputs": [],
   "source": [
    "#saver = tf.train.Saver()\n",
    "#save_path = saver.save(session, \"/Users/momo/Documents/DL/Tuts/Tf/new/model1.ckpt\",global_step=1000)\n",
    "#print(\"Model saved in path: %s\" % save_path)"
   ]
  },
  {
   "cell_type": "code",
   "execution_count": 36,
   "metadata": {},
   "outputs": [],
   "source": [
    "#session.close()"
   ]
  }
 ],
 "metadata": {
  "kernelspec": {
   "display_name": "Python 3",
   "language": "python",
   "name": "python3"
  },
  "language_info": {
   "codemirror_mode": {
    "name": "ipython",
    "version": 3
   },
   "file_extension": ".py",
   "mimetype": "text/x-python",
   "name": "python",
   "nbconvert_exporter": "python",
   "pygments_lexer": "ipython3",
   "version": "3.6.5"
  }
 },
 "nbformat": 4,
 "nbformat_minor": 2
}
