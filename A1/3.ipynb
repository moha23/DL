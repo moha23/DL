{
 "cells": [
  {
   "cell_type": "code",
   "execution_count": 1,
   "metadata": {},
   "outputs": [],
   "source": [
    "%matplotlib inline\n",
    "import matplotlib.pyplot as plt\n",
    "import tensorflow as tf\n",
    "import numpy as np\n",
    "from sklearn.metrics import confusion_matrix"
   ]
  },
  {
   "cell_type": "code",
   "execution_count": 2,
   "metadata": {},
   "outputs": [],
   "source": [
    "from mnist import MNIST\n",
    "data = MNIST(data_dir=\"data/MNIST/\")"
   ]
  },
  {
   "cell_type": "code",
   "execution_count": 3,
   "metadata": {},
   "outputs": [],
   "source": [
    "img_size_flat = data.img_size_flat\n",
    "img_shape = data.img_shape\n",
    "num_classes = data.num_classes"
   ]
  },
  {
   "cell_type": "code",
   "execution_count": 4,
   "metadata": {},
   "outputs": [],
   "source": [
    "x = tf.placeholder(tf.float32, [None, img_size_flat])"
   ]
  },
  {
   "cell_type": "code",
   "execution_count": 5,
   "metadata": {},
   "outputs": [],
   "source": [
    "y_true = tf.placeholder(tf.float32, [None, num_classes])"
   ]
  },
  {
   "cell_type": "code",
   "execution_count": 6,
   "metadata": {},
   "outputs": [],
   "source": [
    "y_true_cls = tf.placeholder(tf.int64, [None])"
   ]
  },
  {
   "cell_type": "code",
   "execution_count": 7,
   "metadata": {},
   "outputs": [],
   "source": [
    "def new_FC_layer(x,units,activation,use_bias,name,reuse):\n",
    "        num_ip = int(x.shape[1])\n",
    "        num_op = units\n",
    "        \n",
    "        #kernel initializer\n",
    "        #if kernel_initializer==xavier_initializer:\n",
    "        #    initializer = tf.contrib.layers.xavier_initializer\n",
    "        #    weight = tf.Variable(initializer([num_ip, num_op]),name='Weight')\n",
    "        #else:\n",
    "        \n",
    "        if name:\n",
    "            if reuse == True:\n",
    "                with tf.variable_scope(name,reuse = tf.AUTO_REUSE):\n",
    "                    weight = tf.get_variable(\"Weight\",[num_ip, num_op],initializer=tf.contrib.layers.xavier_initializer())\n",
    "                    bias = tf.get_variable(\"Bias\",[num_op],initializer=tf.zeros_initializer())\n",
    "            else:\n",
    "                with tf.variable_scope(name):\n",
    "                    weight = tf.get_variable(\"Weight\",[num_ip, num_op],initializer=tf.contrib.layers.xavier_initializer())\n",
    "                    bias = tf.get_variable(\"Bias\",[num_op],initializer=tf.zeros_initializer())\n",
    "        else:\n",
    "            weight = tf.get_variable(\"Weight\",[num_ip, num_op],initializer=tf.contrib.layers.xavier_initializer())\n",
    "            bias = tf.get_variable(\"Bias\",[num_op],initializer=tf.zeros_initializer())\n",
    "        \n",
    "        if use_bias==False:\n",
    "            layer = tf.matmul(x,weight)\n",
    "        else:\n",
    "            layer = tf.add(tf.matmul(x,weight),bias)\n",
    "        if activation:\n",
    "            layer = activation(layer)\n",
    "        return layer"
   ]
  },
  {
   "cell_type": "code",
   "execution_count": 8,
   "metadata": {},
   "outputs": [
    {
     "name": "stdout",
     "output_type": "stream",
     "text": [
      "\n",
      "WARNING: The TensorFlow contrib module will not be included in TensorFlow 2.0.\n",
      "For more information, please see:\n",
      "  * https://github.com/tensorflow/community/blob/master/rfcs/20180907-contrib-sunset.md\n",
      "  * https://github.com/tensorflow/addons\n",
      "If you depend on functionality not listed there, please file an issue.\n",
      "\n",
      "WARNING:tensorflow:From /Users/momo/.virtualenvs/cv/lib/python3.6/site-packages/tensorflow/python/framework/op_def_library.py:263: colocate_with (from tensorflow.python.framework.ops) is deprecated and will be removed in a future version.\n",
      "Instructions for updating:\n",
      "Colocations handled automatically by placer.\n"
     ]
    }
   ],
   "source": [
    "h_layer1 = new_FC_layer(x,500,activation = tf.nn.sigmoid,use_bias=True,name='h_layer1',reuse=False)"
   ]
  },
  {
   "cell_type": "code",
   "execution_count": 9,
   "metadata": {},
   "outputs": [],
   "source": [
    "h_layer2= new_FC_layer(h_layer1,512,activation = tf.nn.relu,use_bias=True,name ='h_layer2',reuse=False)"
   ]
  },
  {
   "cell_type": "code",
   "execution_count": 10,
   "metadata": {},
   "outputs": [],
   "source": [
    "h_layer3= new_FC_layer(h_layer2,512,activation = tf.nn.relu,use_bias=True,name ='h_layer3',reuse=True)"
   ]
  },
  {
   "cell_type": "code",
   "execution_count": 11,
   "metadata": {},
   "outputs": [],
   "source": [
    "logits = new_FC_layer(h_layer3,num_classes,activation = None,use_bias=True,name='op_layer',reuse=True)"
   ]
  },
  {
   "cell_type": "code",
   "execution_count": 12,
   "metadata": {},
   "outputs": [],
   "source": [
    "#tf.global_variables()"
   ]
  },
  {
   "cell_type": "code",
   "execution_count": 13,
   "metadata": {},
   "outputs": [],
   "source": [
    "y_pred = tf.nn.softmax(logits)"
   ]
  },
  {
   "cell_type": "code",
   "execution_count": 14,
   "metadata": {},
   "outputs": [],
   "source": [
    "y_pred_cls = tf.argmax(y_pred, axis=1)"
   ]
  },
  {
   "cell_type": "code",
   "execution_count": 15,
   "metadata": {},
   "outputs": [],
   "source": [
    "cross_entropy = tf.nn.softmax_cross_entropy_with_logits_v2(logits=logits,\n",
    "                                                           labels=y_true)"
   ]
  },
  {
   "cell_type": "code",
   "execution_count": 16,
   "metadata": {},
   "outputs": [],
   "source": [
    "cost = tf.reduce_mean(cross_entropy)"
   ]
  },
  {
   "cell_type": "code",
   "execution_count": 17,
   "metadata": {},
   "outputs": [],
   "source": [
    "optimizer = tf.train.AdamOptimizer(learning_rate=0.005).minimize(cost)"
   ]
  },
  {
   "cell_type": "code",
   "execution_count": 18,
   "metadata": {},
   "outputs": [],
   "source": [
    "correct_prediction = tf.equal(y_pred_cls, y_true_cls)"
   ]
  },
  {
   "cell_type": "code",
   "execution_count": 19,
   "metadata": {},
   "outputs": [],
   "source": [
    "accuracy = tf.reduce_mean(tf.cast(correct_prediction, tf.float32))"
   ]
  },
  {
   "cell_type": "code",
   "execution_count": 20,
   "metadata": {},
   "outputs": [],
   "source": [
    "session= tf.Session()"
   ]
  },
  {
   "cell_type": "code",
   "execution_count": 21,
   "metadata": {},
   "outputs": [],
   "source": [
    "session.run(tf.global_variables_initializer())"
   ]
  },
  {
   "cell_type": "code",
   "execution_count": 22,
   "metadata": {},
   "outputs": [],
   "source": [
    "batch_size = 100"
   ]
  },
  {
   "cell_type": "code",
   "execution_count": 23,
   "metadata": {},
   "outputs": [],
   "source": [
    "feed_dict_test = {x: data.x_test,\n",
    "                  y_true: data.y_test,\n",
    "                  y_true_cls: data.y_test_cls}"
   ]
  },
  {
   "cell_type": "code",
   "execution_count": 24,
   "metadata": {},
   "outputs": [],
   "source": [
    "def optimize(num_iterations):\n",
    "    loss_list=[]\n",
    "    acc_list=[]\n",
    "    for i in range(num_iterations):\n",
    "        x_batch, y_true_batch, _ = data.random_batch(batch_size=batch_size)\n",
    "        \n",
    "        feed_dict_train = {x: x_batch,\n",
    "                           y_true: y_true_batch}\n",
    "        session.run(optimizer, feed_dict=feed_dict_train)\n",
    "        if i % 100 == 0:\n",
    "            loss=session.run(cost, feed_dict=feed_dict_train)\n",
    "            #acc = session.run(accuracy, feed_dict=feed_dict_train)\n",
    "            loss_list.append(loss)\n",
    "            #acc_list.append(acc)\n",
    "            plt.plot(loss_list)\n",
    "            #plt.plot(acc_list)"
   ]
  },
  {
   "cell_type": "code",
   "execution_count": 25,
   "metadata": {},
   "outputs": [],
   "source": [
    "def print_accuracy():\n",
    "    acc = session.run(accuracy, feed_dict=feed_dict_test)\n",
    "    print(\"Accuracy on test-set: {0:.1%}\".format(acc))"
   ]
  },
  {
   "cell_type": "code",
   "execution_count": 26,
   "metadata": {},
   "outputs": [],
   "source": [
    "def print_confusion_matrix():\n",
    "    cls_true = data.y_test_cls\n",
    "    cls_pred = session.run(y_pred_cls, feed_dict=feed_dict_test)\n",
    "    cm = confusion_matrix(y_true=cls_true,\n",
    "                          y_pred=cls_pred)\n",
    "    print(cm)\n",
    "    plt.imshow(cm, interpolation='nearest', cmap=plt.cm.Blues)\n",
    "    plt.tight_layout()\n",
    "    plt.colorbar()\n",
    "    tick_marks = np.arange(num_classes)\n",
    "    plt.xticks(tick_marks, range(num_classes))\n",
    "    plt.yticks(tick_marks, range(num_classes))\n",
    "    plt.xlabel('Predicted')\n",
    "    plt.ylabel('True')\n",
    "    plt.show()\n",
    "    return(cm)"
   ]
  },
  {
   "cell_type": "code",
   "execution_count": null,
   "metadata": {},
   "outputs": [],
   "source": []
  },
  {
   "cell_type": "code",
   "execution_count": 27,
   "metadata": {},
   "outputs": [
    {
     "name": "stdout",
     "output_type": "stream",
     "text": [
      "Accuracy on test-set: 8.8%\n"
     ]
    }
   ],
   "source": [
    "print_accuracy()"
   ]
  },
  {
   "cell_type": "code",
   "execution_count": 28,
   "metadata": {},
   "outputs": [
    {
     "data": {
      "image/png": "[encoded data removed]",
      "text/plain": [
       "<Figure size 432x288 with 1 Axes>"
      ]
     },
     "metadata": {
      "needs_background": "light"
     },
     "output_type": "display_data"
    }
   ],
   "source": [
    "optimize(num_iterations=5000)"
   ]
  },
  {
   "cell_type": "code",
   "execution_count": 29,
   "metadata": {},
   "outputs": [
    {
     "name": "stdout",
     "output_type": "stream",
     "text": [
      "Accuracy on test-set: 97.4%\n"
     ]
    }
   ],
   "source": [
    "print_accuracy()"
   ]
  },
  {
   "cell_type": "code",
   "execution_count": 30,
   "metadata": {},
   "outputs": [
    {
     "name": "stdout",
     "output_type": "stream",
     "text": [
      "[[ 966    0    0    0    1    0    4    4    3    2]\n",
      " [   0 1126    4    0    0    0    2    0    3    0]\n",
      " [   6    1 1009    8    1    0    1    3    3    0]\n",
      " [   0    0    8  975    0    4    0    5    8   10]\n",
      " [   1    3    2    0  950    1   15    1    1    8]\n",
      " [   2    0    0    5    1  864   10    1    8    1]\n",
      " [   4    1    0    1    5    1  945    0    1    0]\n",
      " [   1    6   12    1    1    0    0 1004    1    2]\n",
      " [   3    0   17    2    2    2    6    4  936    2]\n",
      " [   2    5    0    9   10    7    3   10    2  961]]\n"
     ]
    },
    {
     "data": {
      "image/png": "[encoded data removed]",
      "text/plain": [
       "<Figure size 432x288 with 2 Axes>"
      ]
     },
     "metadata": {
      "needs_background": "light"
     },
     "output_type": "display_data"
    }
   ],
   "source": [
    "cm = print_confusion_matrix()"
   ]
  },
  {
   "cell_type": "code",
   "execution_count": 31,
   "metadata": {},
   "outputs": [],
   "source": [
    "def find_performance_matrix(cm, num_classes):\n",
    "    performance_matrix = [[0, 0, 0]] * num_classes\n",
    "    for class_num in range(num_classes):\n",
    "        performance_matrix[class_num][0] = find_precision(cm, class_num)\n",
    "    for class_num in range(num_classes):\n",
    "        performance_matrix[class_num][1] = find_recall_rate(cm, class_num)\n",
    "    for class_num in range(num_classes):\n",
    "        performance_matrix[class_num][2] = find_f_score(performance_matrix[class_num])\n",
    "\n",
    "    #find mean precision, mean recall rate and mean f score\n",
    "    for metric in range(3):\n",
    "        total = 0\n",
    "        for i in range(num_classes):\n",
    "            total += performance_matrix[i][metric]\n",
    "\n",
    "        performance_matrix[num_classes - 1][metric] = total / num_classes\n",
    "\n",
    "    round_off_performance_matrix(performance_matrix)\n",
    "\n",
    "    return performance_matrix\n",
    "\n",
    "def round_off_performance_matrix(performance_matrix):\n",
    "    for i in range(len(performance_matrix)):\n",
    "        for j in range(len(performance_matrix[i])):\n",
    "            performance_matrix[i][j] = round(performance_matrix[i][j], 2)\n",
    "\n",
    "\n",
    "def find_precision(cm, class_num):\n",
    "    total_samples_classfied_as_class_num = 0\n",
    "    for i in range(num_classes):\n",
    "        total_samples_classfied_as_class_num += cm[i][class_num]\n",
    "    precision_rate = (cm[class_num][class_num] / total_samples_classfied_as_class_num) * 100\n",
    "\n",
    "    return precision_rate\n",
    "\n",
    "def find_recall_rate(cm, class_num):\n",
    "    total_samples_in_class = 0\n",
    "    for j in range(num_classes):\n",
    "        total_samples_in_class += cm[class_num][j]\n",
    "    recall_rate = (cm[class_num][class_num] / total_samples_in_class) * 100\n",
    "\n",
    "    return recall_rate\n",
    "\n",
    "def find_f_score(array):\n",
    "    precision = array[0]\n",
    "    recall = array[1]\n",
    "    f_score = (precision * recall) / ((precision + recall) / 2)\n",
    "\n",
    "    return f_score"
   ]
  },
  {
   "cell_type": "code",
   "execution_count": 32,
   "metadata": {},
   "outputs": [
    {
     "name": "stdout",
     "output_type": "stream",
     "text": [
      "[[97.46, 95.24, 96.34], [97.46, 95.24, 96.34], [97.46, 95.24, 96.34], [97.46, 95.24, 96.34], [97.46, 95.24, 96.34], [97.46, 95.24, 96.34], [97.46, 95.24, 96.34], [97.46, 95.24, 96.34], [97.46, 95.24, 96.34], [97.46, 95.24, 96.34]]\n"
     ]
    }
   ],
   "source": [
    "pm = find_performance_matrix(cm,num_classes)\n",
    "print(pm)"
   ]
  },
  {
   "cell_type": "code",
   "execution_count": 33,
   "metadata": {},
   "outputs": [
    {
     "name": "stdout",
     "output_type": "stream",
     "text": [
      "96.34\n"
     ]
    }
   ],
   "source": [
    "f_score = pm[-1][-1]\n",
    "print(f_score)"
   ]
  },
  {
   "cell_type": "code",
   "execution_count": 34,
   "metadata": {},
   "outputs": [],
   "source": [
    "#saver = tf.train.Saver()\n",
    "#save_path = saver.save(session, \"/Users/momo/Documents/DL/Tuts/Tf/new/model1.ckpt\",global_step=1000)\n",
    "#print(\"Model saved in path: %s\" % save_path)"
   ]
  },
  {
   "cell_type": "code",
   "execution_count": 36,
   "metadata": {},
   "outputs": [],
   "source": [
    "session.close()"
   ]
  },
  {
   "cell_type": "code",
   "execution_count": null,
   "metadata": {},
   "outputs": [],
   "source": []
  }
 ],
 "metadata": {
  "kernelspec": {
   "display_name": "Python 3",
   "language": "python",
   "name": "python3"
  },
  "language_info": {
   "codemirror_mode": {
    "name": "ipython",
    "version": 3
   },
   "file_extension": ".py",
   "mimetype": "text/x-python",
   "name": "python",
   "nbconvert_exporter": "python",
   "pygments_lexer": "ipython3",
   "version": "3.6.5"
  }
 },
 "nbformat": 4,
 "nbformat_minor": 2
}
