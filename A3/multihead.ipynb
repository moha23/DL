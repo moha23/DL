{
 "cells": [
  {
   "cell_type": "code",
   "execution_count": 1,
   "metadata": {},
   "outputs": [],
   "source": [
    "import numpy as np\n",
    "import pandas as pd\n",
    "import cv2\n",
    "import glob\n",
    "import os\n",
    "\n",
    "x=np.empty([1000,28,28,3])\n",
    "y=np.empty([1000,96])\n",
    "g=np.empty([1000,96])\n",
    "y_int=np.empty([1000])\n",
    "g_int=np.empty([1000])\n",
    "\n",
    "#one_hot_encoded\n",
    "y_len=np.empty([1000,2])\n",
    "y_wid=np.empty([1000,2])\n",
    "y_col=np.empty([1000,2])\n",
    "y_ang=np.empty([1000,12])\n",
    "\n",
    "g_len=np.empty([1000,2])\n",
    "g_wid=np.empty([1000,2])\n",
    "g_col=np.empty([1000,2])\n",
    "g_ang=np.empty([1000,12])\n",
    "\n",
    "#true class\n",
    "y_len_int=np.empty([1000,1])\n",
    "y_wid_int=np.empty([1000,1])\n",
    "y_col_int=np.empty([1000,1])\n",
    "y_ang_int=np.empty([1000])\n",
    "\n",
    "g_len_int=np.empty([1000,1])\n",
    "g_wid_int=np.empty([1000,1])\n",
    "g_col_int=np.empty([1000,1])\n",
    "g_ang_int=np.empty([1000])\n",
    "\n",
    "first = 1\n",
    "num=0\n",
    "for root, dirs, files in os.walk(\"/Users/momo/Downloads/openCV\"):\n",
    "    os.chdir(root)\n",
    "    images = np.array([cv2.imread(file) for file in glob.glob(root+\"/*.jpg\")])\n",
    "    num_of_images=images.shape[0]\n",
    "\n",
    "    if num_of_images == 0: \n",
    "        continue\n",
    "    else:\n",
    "        if first == 1:\n",
    "            x = images\n",
    "            orgname = os.path.basename(os.path.normpath(root))\n",
    "            y_len.fill(0)\n",
    "            y_wid.fill(0)\n",
    "            y_col.fill(0)\n",
    "            y_ang.fill(0)\n",
    "            name=orgname.split('_', 4)\n",
    "            length=int(name[0])\n",
    "            width=int(name[1])\n",
    "            colour=int(name[3])\n",
    "            angle=int(name[2])\n",
    "            #print(colour)\n",
    "            for i in range(0,999):\n",
    "                y_len[i,length]=1\n",
    "                y_wid[i,width]=1\n",
    "                y_col[i,colour]=1\n",
    "                y_ang[i,angle]=1\n",
    "                \n",
    "            y_len_int.fill(length)\n",
    "            y_wid_int.fill(width)\n",
    "            y_col_int.fill(colour)\n",
    "            y_ang_int.fill(angle)\n",
    "            \n",
    "            d={'class':num,'label':[orgname],'length':[length],'width':[width],'colour':[colour],'angle':[angle]}\n",
    "            corr = pd.DataFrame(data = d)\n",
    "            first = 0\n",
    "            num=num+1\n",
    "\n",
    "        else:\n",
    "            x = np.concatenate((x,images),axis=0)\n",
    "            orgname = os.path.basename(os.path.normpath(root))\n",
    "            name=orgname.split('_', 4)\n",
    "            g_len.fill(0)\n",
    "            g_wid.fill(0)\n",
    "            g_col.fill(0)\n",
    "            g_ang.fill(0)\n",
    "            length=int(name[0])\n",
    "            width=int(name[1])\n",
    "            colour=int(name[3])\n",
    "            angle=int(name[2])\n",
    "            #print(colour)\n",
    "            for i in range(0,999):\n",
    "                g_len[i,length]=1\n",
    "                g_wid[i,width]=1\n",
    "                g_col[i,colour]=1\n",
    "                g_ang[i,angle]=1\n",
    "            y_len=np.concatenate((y_len,g_len),axis=0)\n",
    "            y_wid =np.concatenate((y_wid,g_wid),axis=0)\n",
    "            y_col =np.concatenate((y_col,g_col),axis=0)\n",
    "            y_ang=np.concatenate((y_ang,g_ang),axis=0)\n",
    "            \n",
    "            g_len_int.fill(length)\n",
    "            g_wid_int.fill(width)\n",
    "            g_col_int.fill(colour)\n",
    "            g_ang_int.fill(angle)\n",
    "            \n",
    "            y_len_int=np.concatenate((y_len_int,g_len_int),axis=0)\n",
    "            y_wid_int=np.concatenate((y_wid_int,g_wid_int),axis=0)\n",
    "            y_col_int=np.concatenate((y_col_int,g_col_int),axis=0)\n",
    "            y_ang_int=np.concatenate((y_ang_int,g_ang_int),axis=0)\n",
    "            \n",
    "            d={'class':num,'label':[orgname],'length':[length],'width':[width],'colour':[colour],'angle':[angle]}\n",
    "            newcorr = pd.DataFrame(data=d)\n",
    "            corr = corr.append(newcorr)\n",
    "            num=num+1\n",
    "#print(corr)\n",
    "x=np.reshape(x,[96000,2352])\n",
    "from sklearn.model_selection import train_test_split\n",
    "x_train, x_test, y_len_train, y_len_test,y_wid_train, y_wid_test,y_col_train, y_col_test,y_ang_train, y_ang_test,y_len_int_train, y_len_int_test,y_wid_int_train, y_wid_int_test,y_col_int_train, y_col_int_test,y_ang_int_train, y_ang_int_test = train_test_split(x, y_len,y_wid,y_col,y_ang, y_len_int,y_wid_int,y_col_int,y_ang_int, test_size=0.25, random_state=42)"
   ]
  },
  {
   "cell_type": "code",
   "execution_count": 2,
   "metadata": {},
   "outputs": [],
   "source": [
    "def random_batch(x,y_len,y_wid,y_col,y_ang,y_len_int,y_wid_int,y_col_int,y_ang_int,batch_size):\n",
    "        \n",
    "        num_train = 72000\n",
    "        # Create a random index into the training-set.\n",
    "        idx = np.random.randint(low=0, high=num_train, size=batch_size)\n",
    "\n",
    "        # Use the index to lookup random training-data.\n",
    "        x_batch = x[idx]\n",
    "        y_len_batch = y_len[idx]\n",
    "        y_len_int_batch = y_len_int[idx]\n",
    "        y_wid_batch = y_wid[idx]\n",
    "        y_wid_int_batch = y_wid_int[idx]\n",
    "        y_col_batch = y_col[idx]\n",
    "        y_col_int_batch = y_col_int[idx]\n",
    "        y_ang_batch = y_ang[idx]\n",
    "        y_ang_int_batch = y_ang_int[idx]\n",
    "\n",
    "        return x_batch, y_len_int_batch, y_wid_int_batch,y_col_int_batch,y_ang_batch"
   ]
  },
  {
   "cell_type": "code",
   "execution_count": 3,
   "metadata": {},
   "outputs": [],
   "source": [
    "%matplotlib inline\n",
    "import matplotlib.pyplot as plt\n",
    "import tensorflow as tf\n",
    "import numpy as np\n",
    "from sklearn.metrics import confusion_matrix\n",
    "import time\n",
    "from datetime import timedelta\n",
    "import math"
   ]
  },
  {
   "cell_type": "code",
   "execution_count": 4,
   "metadata": {},
   "outputs": [],
   "source": [
    "# The number of pixels in each dimension of an image.\n",
    "img_size = 28\n",
    "\n",
    "# The images are stored in one-dimensional arrays of this length.\n",
    "img_size_flat = 2352\n",
    "\n",
    "# Tuple with height and width of images used to reshape arrays.\n",
    "img_shape = [28,28,3]\n",
    "\n",
    "# Number of classes\n",
    "#num_classes = 96\n",
    "\n",
    "# Number of colour channels for the images: 1 channel for gray-scale.\n",
    "num_channels = 3"
   ]
  },
  {
   "cell_type": "code",
   "execution_count": 5,
   "metadata": {},
   "outputs": [],
   "source": [
    "def new_weights(shape):\n",
    "    return tf.Variable(tf.truncated_normal(shape, stddev=0.05))\n",
    "def new_biases(length):\n",
    "    return tf.Variable(tf.constant(0.05, shape=[length]))"
   ]
  },
  {
   "cell_type": "code",
   "execution_count": 6,
   "metadata": {},
   "outputs": [
    {
     "name": "stdout",
     "output_type": "stream",
     "text": [
      "WARNING:tensorflow:From /Users/momo/.virtualenvs/cv/lib/python3.6/site-packages/tensorflow/python/framework/op_def_library.py:263: colocate_with (from tensorflow.python.framework.ops) is deprecated and will be removed in a future version.\n",
      "Instructions for updating:\n",
      "Colocations handled automatically by placer.\n",
      "\n",
      "WARNING: The TensorFlow contrib module will not be included in TensorFlow 2.0.\n",
      "For more information, please see:\n",
      "  * https://github.com/tensorflow/community/blob/master/rfcs/20180907-contrib-sunset.md\n",
      "  * https://github.com/tensorflow/addons\n",
      "If you depend on functionality not listed there, please file an issue.\n",
      "\n",
      "WARNING:tensorflow:From /Users/momo/.virtualenvs/cv/lib/python3.6/site-packages/tensorflow/contrib/layers/python/layers/layers.py:1624: flatten (from tensorflow.python.layers.core) is deprecated and will be removed in a future version.\n",
      "Instructions for updating:\n",
      "Use keras.layers.flatten instead.\n",
      "1764\n"
     ]
    }
   ],
   "source": [
    "with tf.variable_scope('FeaureExtractor', reuse=tf.AUTO_REUSE):\n",
    "    with tf.variable_scope('ConvNetLayer1', reuse=tf.AUTO_REUSE):\n",
    "        x = tf.placeholder(tf.float32, shape=[None, img_size_flat], name='x')\n",
    "        x_image = tf.reshape(x, [-1, img_size, img_size, num_channels])\n",
    "        weights1 = new_weights(shape=[5,5,3,16])\n",
    "        biases1 = new_biases(length=16)\n",
    "        conv1 = tf.nn.conv2d(input=x_image,\n",
    "                             filter=weights1,\n",
    "                             strides=[1, 1, 1, 1],\n",
    "                             padding='SAME',\n",
    "                             name = 'conv1')\n",
    "        conv1 += biases1\n",
    "        conv1 = tf.nn.relu(conv1)\n",
    "        conv1 = tf.nn.max_pool(value=conv1,\n",
    "                               ksize=[1, 2, 2, 1],\n",
    "                               strides=[1, 2, 2, 1],\n",
    "                               padding='SAME',\n",
    "                               name='maxpooledconv1')\n",
    "    with tf.variable_scope('ConvNetLayer2', reuse=tf.AUTO_REUSE):\n",
    "        weights2 = new_weights(shape=[5,5,16,36])\n",
    "        biases2 = new_biases(length=36)\n",
    "        conv2 = tf.nn.conv2d(input=conv1,\n",
    "                             filter=weights2,\n",
    "                             strides=[1, 1, 1, 1],\n",
    "                             padding='SAME',\n",
    "                             name = 'conv2')\n",
    "        conv2 += biases2\n",
    "        conv2 = tf.nn.relu(conv2)\n",
    "        conv2 = tf.nn.max_pool(value=conv2,\n",
    "                               ksize=[1, 2, 2, 1],\n",
    "                               strides=[1, 2, 2, 1],\n",
    "                               padding='SAME',\n",
    "                               name='maxpooledconv2')\n",
    "    with tf.variable_scope('FlattenLayer',reuse=tf.AUTO_REUSE):\n",
    "        layer_flat = tf.contrib.layers.flatten(conv2)\n",
    "        num_features = layer_flat.shape[1]\n",
    "        print(num_features)"
   ]
  },
  {
   "cell_type": "code",
   "execution_count": 7,
   "metadata": {},
   "outputs": [],
   "source": [
    "def isGreater(x,y):\n",
    "    res = tf.math.greater(x,y)\n",
    "    return res"
   ]
  },
  {
   "cell_type": "code",
   "execution_count": 8,
   "metadata": {},
   "outputs": [],
   "source": [
    "y_len_true = tf.placeholder(tf.float32, shape=[None, 1], name='y_len_true')\n",
    "y_wid_true = tf.placeholder(tf.float32, shape=[None, 1], name='y_wid_true')\n",
    "y_col_true = tf.placeholder(tf.float32, shape=[None, 1], name='y_col_true')\n",
    "y_ang_true = tf.placeholder(tf.float32, shape=[None, 12], name='y_ang_true')"
   ]
  },
  {
   "cell_type": "code",
   "execution_count": 9,
   "metadata": {},
   "outputs": [],
   "source": [
    "y_len_true_cls =y_len_true\n",
    "y_wid_true_cls =y_wid_true\n",
    "y_col_true_cls =y_col_true\n",
    "y_ang_true_cls = tf.argmax(y_ang_true, axis=1)"
   ]
  },
  {
   "cell_type": "code",
   "execution_count": 11,
   "metadata": {},
   "outputs": [
    {
     "name": "stdout",
     "output_type": "stream",
     "text": [
      "WARNING:tensorflow:From <ipython-input-11-af6285ed923a>:50: softmax_cross_entropy_with_logits (from tensorflow.python.ops.nn_ops) is deprecated and will be removed in a future version.\n",
      "Instructions for updating:\n",
      "\n",
      "Future major versions of TensorFlow will allow gradients to flow\n",
      "into the labels input on backprop by default.\n",
      "\n",
      "See `tf.nn.softmax_cross_entropy_with_logits_v2`.\n",
      "\n"
     ]
    }
   ],
   "source": [
    "with tf.variable_scope('LengthHead', reuse=tf.AUTO_REUSE):\n",
    "    layer_len_fc1 = tf.layers.dense(layer_flat,128,activation='relu',name='LengthFC1',reuse=tf.AUTO_REUSE)\n",
    "    layer_len_fc2 = tf.layers.dense(layer_len_fc1,1,name='LengthFC2',reuse=tf.AUTO_REUSE)\n",
    "    y_len_pred = tf.nn.sigmoid(layer_len_fc2)\n",
    "    if(isGreater(y_len_pred,0.5) is True):\n",
    "        y_len_pred_cls = tf.math.ceil(y_len_pred)\n",
    "    else:\n",
    "        y_len_pred_cls = tf.math.floor(y_len_pred)\n",
    "    cross_entropy_len = tf.nn.sigmoid_cross_entropy_with_logits(logits=layer_len_fc2,\n",
    "                                                        labels=y_len_true)\n",
    "    cost_len = tf.reduce_mean(cross_entropy_len)\n",
    "    correct_prediction_len = tf.equal(y_len_pred_cls, y_len_true_cls)\n",
    "    accuracy_len = tf.reduce_mean(tf.cast(correct_prediction_len, tf.float32))\n",
    "    \n",
    "\n",
    "with tf.variable_scope('WidthHead', reuse=tf.AUTO_REUSE):\n",
    "    layer_wid_fc1 = tf.layers.dense(layer_flat,128,activation='relu',name='WidthFC1',reuse=tf.AUTO_REUSE)\n",
    "    layer_wid_fc2 = tf.layers.dense(layer_wid_fc1,1,name='WidthFC2',reuse = tf.AUTO_REUSE)\n",
    "    y_wid_pred = tf.nn.sigmoid(layer_wid_fc2)\n",
    "    if(isGreater(y_wid_pred,0.5) is True):\n",
    "        y_wid_pred_cls = tf.math.ceil(y_wid_pred)\n",
    "    else:\n",
    "        y_wid_pred_cls = tf.math.floor(y_wid_pred)\n",
    "    cross_entropy_wid = tf.nn.sigmoid_cross_entropy_with_logits(logits=layer_wid_fc2,\n",
    "                                                        labels=y_wid_true)\n",
    "    cost_wid = tf.reduce_mean(cross_entropy_wid)\n",
    "    correct_prediction_wid = tf.equal(y_wid_pred_cls, y_wid_true_cls)\n",
    "    accuracy_wid = tf.reduce_mean(tf.cast(correct_prediction_wid, tf.float32))\n",
    "    \n",
    "with tf.variable_scope('ColourHead', reuse=tf.AUTO_REUSE):\n",
    "    layer_col_fc1 = tf.layers.dense(layer_flat,128,activation='relu',name='ColourFC1',reuse=tf.AUTO_REUSE)\n",
    "    layer_col_fc2 = tf.layers.dense(layer_col_fc1,1,name='ColourFC2',reuse=tf.AUTO_REUSE)\n",
    "    y_col_pred = tf.nn.sigmoid(layer_col_fc2)\n",
    "    if(isGreater(y_col_pred,0.5) is True):\n",
    "        y_col_pred_cls = tf.math.ceil(y_col_pred)\n",
    "    else:\n",
    "        y_col_pred_cls = tf.math.floor(y_col_pred)\n",
    "    cross_entropy_col = tf.nn.sigmoid_cross_entropy_with_logits(logits=layer_col_fc2,\n",
    "                                                        labels=y_col_true)\n",
    "    cost_col = tf.reduce_mean(cross_entropy_col)\n",
    "    correct_prediction_col = tf.equal(y_col_pred_cls, y_col_true_cls)\n",
    "    accuracy_col = tf.reduce_mean(tf.cast(correct_prediction_col, tf.float32))\n",
    "    \n",
    "with tf.variable_scope('AngleHead', reuse=tf.AUTO_REUSE):\n",
    "    layer_ang_fc1 = tf.layers.dense(layer_flat,128,activation='relu',name='AngleFC1',reuse=tf.AUTO_REUSE)\n",
    "    layer_ang_fc2 = tf.layers.dense(layer_ang_fc1,12,name='AngleFC2',reuse=tf.AUTO_REUSE)\n",
    "    y_ang_pred = tf.nn.softmax(layer_ang_fc2)\n",
    "    y_ang_pred_cls = tf.argmax(y_ang_pred, axis=1)\n",
    "    cross_entropy_ang = tf.nn.softmax_cross_entropy_with_logits(logits=layer_ang_fc2,\n",
    "                                                        labels=y_ang_true)\n",
    "    cost_ang = tf.reduce_mean(cross_entropy_ang)\n",
    "    correct_prediction_ang = tf.equal(y_ang_pred_cls, y_ang_true_cls)\n",
    "    accuracy_ang = tf.reduce_mean(tf.cast(correct_prediction_ang, tf.float32))\n",
    "    \n",
    "total_cost = cost_len + cost_wid +cost_col+cost_ang\n",
    "optimizer = tf.train.AdamOptimizer(learning_rate=0.005).minimize(total_cost)\n",
    "session = tf.Session()\n",
    "session.run(tf.global_variables_initializer())"
   ]
  },
  {
   "cell_type": "code",
   "execution_count": 12,
   "metadata": {},
   "outputs": [],
   "source": [
    "train_batch_size = 64"
   ]
  },
  {
   "cell_type": "code",
   "execution_count": 16,
   "metadata": {},
   "outputs": [],
   "source": [
    "# Counter for total number of iterations performed so far.\n",
    "total_iterations = 0\n",
    "\n",
    "def optimize(num_iterations):\n",
    "    loss_list=[]\n",
    "    acc_list=[]\n",
    "    global total_iterations\n",
    "\n",
    "    # Start-time used for printing time-usage below.\n",
    "    start_time = time.time()\n",
    "\n",
    "    for i in range(total_iterations,\n",
    "                   total_iterations + num_iterations):\n",
    "\n",
    "        # Get a batch of training examples.\n",
    "        x_batch,y_len_batch,y_wid_batch,y_col_batch,y_ang_batch = random_batch(x_train,y_len_train,y_wid_train,y_col_train,y_ang_train,y_len_int_train,y_wid_int_train,y_col_int_train,y_ang_int_train,batch_size=train_batch_size)\n",
    "    \n",
    "        # Put the batch into a dict with the proper names\n",
    "        # for placeholder variables in the TensorFlow graph.\n",
    "        feed_dict_train = {x: x_batch,\n",
    "                           y_len_true: y_len_batch,\n",
    "                           y_wid_true: y_wid_batch,\n",
    "                           y_col_true: y_col_batch,\n",
    "                           y_ang_true: y_ang_batch\n",
    "                        }\n",
    "\n",
    "        # Run the optimizer using this batch of training data.\n",
    "        # TensorFlow assigns the variables in feed_dict_train\n",
    "        # to the placeholder variables and then runs the optimizer.\n",
    "        session.run(optimizer, feed_dict=feed_dict_train)\n",
    "\n",
    "        # Print status every 100 iterations.\n",
    "        if i % 100 == 0:\n",
    "            # Calculate the accuracy on the training-set.\n",
    "            acc_len = session.run(accuracy_len, feed_dict=feed_dict_train)\n",
    "            acc_wid = session.run(accuracy_wid, feed_dict=feed_dict_train)\n",
    "            acc_col = session.run(accuracy_col, feed_dict=feed_dict_train)\n",
    "            acc_ang = session.run(accuracy_ang, feed_dict=feed_dict_train)\n",
    "            loss = session.run(total_cost, feed_dict=feed_dict_train)\n",
    "\n",
    "            # Message for printing.\n",
    "            msg = \"Optimization Iteration: {0:>6}, Training Accuracy length: {1:>6.1%} width: {2:>6.1%} colour: {3:>6.1%} angle: {4:>6.1%}\"\n",
    "\n",
    "            # Print it.\n",
    "            print(msg.format(i + 1, acc_len,acc_wid,acc_col,acc_ang))\n",
    "            \n",
    "            \n",
    "            loss_list.append(loss)\n",
    "            plt.plot(loss_list)\n",
    "            
    "    # Update the total number of iterations performed.\n",
    "    total_iterations += num_iterations\n",
    "\n",
    "    # Ending time.\n",
    "    end_time = time.time()\n",
    "\n",
    "    # Difference between start and end-times.\n",
    "    time_dif = end_time - start_time\n",
    "\n",
    "    # Print the time-usage.\n",
    "    print(\"Time usage: \" + str(timedelta(seconds=int(round(time_dif)))))"
   ]
  },
  {
   "cell_type": "code",
   "execution_count": 17,
   "metadata": {},
   "outputs": [],
   "source": [
    "# Split the test-set into smaller batches of this size.\n",
    "test_batch_size = 256\n",
    "\n",
    "def print_test_accuracy():\n",
    "\n",
    "    # Number of images in the test-set.\n",
    "    num_test = 24000\n",
    "\n",
    "    # Allocate an array for the predicted classes which\n",
    "    # will be calculated in batches and filled into this array.\n",
    "    cls_pred_len = np.zeros(shape=[num_test,1], dtype=np.int)\n",
    "    cls_pred_wid = np.zeros(shape=[num_test,1], dtype=np.int)\n",
    "    cls_pred_col = np.zeros(shape=[num_test,1], dtype=np.int)\n",
    "    cls_pred_ang = np.zeros(shape=num_test, dtype=np.int)\n",
    "\n",
    "    # Now calculate the predicted classes for the batches.\n",
    "    # We will just iterate through all the batches.\n",
    "    # There might be a more clever and Pythonic way of doing this.\n",
    "\n",
    "    # The starting index for the next batch is denoted i.\n",
    "    i = 0\n",
    "\n",
    "    while i < num_test:\n",
    "        # The ending index for the next batch is denoted j.\n",
    "        j = min(i + test_batch_size, num_test)\n",
    "\n",
    "        # Get the images from the test-set between index i and j.\n",
    "        images = x_test[i:j, :]\n",
    "\n",
    "        # Get the associated labels.\n",
    "        labels_len = y_len_int_test[i:j,:]\n",
    "        labels_wid = y_wid_int_test[i:j,:]\n",
    "        labels_col = y_col_int_test[i:j,:]\n",
    "        labels_ang = y_ang_test[i:j,:]\n",
    "        \n",
    "\n",
    "        # Create a feed-dict with these images and labels.\n",
    "        feed_dict_len = {x: images,\n",
    "                     y_len_true: labels_len}\n",
    "        feed_dict_wid = {x: images,\n",
    "                     y_wid_true: labels_wid}\n",
    "        feed_dict_col = {x: images,\n",
    "                     y_col_true: labels_col}\n",
    "        feed_dict_ang = {x: images,\n",
    "                     y_ang_true: labels_ang}\n",
    "\n",
    "        # Calculate the predicted class using TensorFlow.\n",
    "        cls_pred_len[i:j,:] = session.run(y_len_pred_cls, feed_dict=feed_dict_len)\n",
    "        cls_pred_wid[i:j,:] = session.run(y_wid_pred_cls, feed_dict=feed_dict_wid)\n",
    "        cls_pred_col[i:j,:] = session.run(y_col_pred_cls, feed_dict=feed_dict_col)\n",
    "        cls_pred_ang[i:j] = session.run(y_ang_pred_cls, feed_dict=feed_dict_ang)\n",
    "\n",
    "        # Set the start-index for the next batch to the\n",
    "        # end-index of the current batch.\n",
    "        i = j\n",
    "\n",
    "    # Convenience variable for the true class-numbers of the test-set.\n",
    "    cls_len_true = y_len_int_test\n",
    "    cls_wid_true = y_wid_int_test\n",
    "    cls_col_true = y_col_int_test\n",
    "    cls_ang_true = y_ang_int_test\n",
    "    #print(cls_ang_true.shape)\n",
    "    # Create a boolean array whether each image is correctly classified.\n",
    "    \n",
    "    correct_len = (cls_len_true == cls_pred_len)\n",
    "    correct_wid = (cls_wid_true == cls_pred_wid)\n",
    "    correct_col = (cls_col_true == cls_pred_col)\n",
    "    correct_ang = (cls_ang_true == cls_pred_ang)\n",
    "    #print(correct_col.shape)\n",
    "    #print(correct_ang.shape)\n",
    "    \n",
    "    # Calculate the number of correctly classified images.\n",
    "    # When summing a boolean array, False means 0 and True means 1.\n",
    "    correct_len_sum = correct_len.sum()\n",
    "    correct_wid_sum = correct_wid.sum()\n",
    "    correct_col_sum = correct_col.sum()\n",
    "    correct_ang_sum = correct_ang.sum()\n",
    "    #print(correct_ang_sum)\n",
    "\n",
    "    # Classification accuracy is the number of correctly classified\n",
    "    # images divided by the total number of images in the test-set.\n",
    "    acc_len = float(correct_len_sum) / num_test\n",
    "    acc_wid = float(correct_wid_sum) / num_test\n",
    "    acc_col = float(correct_col_sum) / num_test\n",
    "    acc_ang = float(correct_ang_sum) / num_test\n",
    "    \n",
    "    # Print the accuracy.\n",
    "    msg = \"Accuracy on Test-Set Length: {0:.1%} ({1} / {2}) width: {3:.1%} ({4} / {2}) colour: {5:.1%} ({6} / {2}) angle:{7:.1%} ({8} / {2})\"\n",
    "    print(msg.format(acc_len, correct_len_sum, num_test,acc_wid,correct_wid_sum,acc_col,correct_col_sum,acc_ang,correct_ang_sum))"
   ]
  },
  {
   "cell_type": "code",
   "execution_count": 18,
   "metadata": {},
   "outputs": [
    {
     "name": "stdout",
     "output_type": "stream",
     "text": [
      "Accuracy on Test-Set Length: 49.8% (11961 / 24000) width: 57.5% (13803 / 24000) colour: 50.5% (12118 / 24000) angle:7.8% (1868 / 24000)\n"
     ]
    }
   ],
   "source": [
    "print_test_accuracy()"
   ]
  },
  {
   "cell_type": "code",
   "execution_count": 19,
   "metadata": {},
   "outputs": [
    {
     "name": "stdout",
     "output_type": "stream",
     "text": [
      "Optimization Iteration:      1, Training Accuracy length:  43.8% width:  59.4% colour:  43.8% angle:  32.8%\n",
      "Optimization Iteration:    101, Training Accuracy length:  53.1% width:  71.9% colour:  71.9% angle:  42.2%\n",
      "Optimization Iteration:    201, Training Accuracy length:  62.5% width:  82.8% colour:  87.5% angle:  70.3%\n",
      "Optimization Iteration:    301, Training Accuracy length:  65.6% width:  87.5% colour:  87.5% angle:  79.7%\n",
      "Optimization Iteration:    401, Training Accuracy length:  54.7% width:  96.9% colour:  85.9% angle:  89.1%\n",
      "Optimization Iteration:    501, Training Accuracy length:  79.7% width:  98.4% colour:  93.8% angle:  84.4%\n",
      "Optimization Iteration:    601, Training Accuracy length:  67.2% width:  95.3% colour:  96.9% angle:  93.8%\n",
      "Optimization Iteration:    701, Training Accuracy length:  60.9% width:  98.4% colour:  82.8% angle:  78.1%\n",
      "Optimization Iteration:    801, Training Accuracy length:  67.2% width: 100.0% colour:  93.8% angle:  93.8%\n",
      "Optimization Iteration:    901, Training Accuracy length:  65.6% width: 100.0% colour:  84.4% angle:  92.2%\n",
      "Optimization Iteration:   1001, Training Accuracy length:  81.2% width:  96.9% colour:  98.4% angle:  89.1%\n",
      "Optimization Iteration:   1101, Training Accuracy length:  78.1% width:  98.4% colour:  96.9% angle:  93.8%\n",
      "Optimization Iteration:   1201, Training Accuracy length:  85.9% width:  95.3% colour:  89.1% angle:  93.8%\n",
      "Optimization Iteration:   1301, Training Accuracy length:  73.4% width: 100.0% colour:  95.3% angle:  95.3%\n",
      "Optimization Iteration:   1401, Training Accuracy length:  71.9% width:  98.4% colour:  98.4% angle:  89.1%\n",
      "Optimization Iteration:   1501, Training Accuracy length:  87.5% width: 100.0% colour:  98.4% angle:  95.3%\n",
      "Optimization Iteration:   1601, Training Accuracy length:  82.8% width: 100.0% colour:  96.9% angle:  96.9%\n",
      "Optimization Iteration:   1701, Training Accuracy length:  85.9% width: 100.0% colour:  96.9% angle:  98.4%\n",
      "Optimization Iteration:   1801, Training Accuracy length:  85.9% width:  96.9% colour:  78.1% angle:  93.8%\n",
      "Optimization Iteration:   1901, Training Accuracy length:  89.1% width: 100.0% colour:  95.3% angle:  95.3%\n",
      "Optimization Iteration:   2001, Training Accuracy length:  93.8% width: 100.0% colour:  89.1% angle:  96.9%\n",
      "Optimization Iteration:   2101, Training Accuracy length:  87.5% width:  98.4% colour:  95.3% angle:  98.4%\n",
      "Optimization Iteration:   2201, Training Accuracy length:  85.9% width:  82.8% colour:  92.2% angle:  96.9%\n",
      "Optimization Iteration:   2301, Training Accuracy length:  90.6% width: 100.0% colour:  98.4% angle:  96.9%\n",
      "Optimization Iteration:   2401, Training Accuracy length:  93.8% width:  93.8% colour:  98.4% angle:  95.3%\n",
      "Optimization Iteration:   2501, Training Accuracy length:  75.0% width:  96.9% colour:  87.5% angle:  98.4%\n",
      "Optimization Iteration:   2601, Training Accuracy length:  90.6% width:  98.4% colour:  93.8% angle:  98.4%\n",
      "Optimization Iteration:   2701, Training Accuracy length:  85.9% width: 100.0% colour:  93.8% angle:  96.9%\n",
      "Optimization Iteration:   2801, Training Accuracy length:  85.9% width: 100.0% colour:  95.3% angle:  93.8%\n",
      "Optimization Iteration:   2901, Training Accuracy length:  78.1% width:  98.4% colour:  87.5% angle:  98.4%\n",
      "Optimization Iteration:   3001, Training Accuracy length:  90.6% width:  98.4% colour:  96.9% angle:  95.3%\n",
      "Optimization Iteration:   3101, Training Accuracy length:  89.1% width: 100.0% colour:  96.9% angle: 100.0%\n",
      "Optimization Iteration:   3201, Training Accuracy length:  82.8% width: 100.0% colour:  84.4% angle:  98.4%\n",
      "Optimization Iteration:   3301, Training Accuracy length:  85.9% width: 100.0% colour:  85.9% angle: 100.0%\n",
      "Optimization Iteration:   3401, Training Accuracy length:  95.3% width:  96.9% colour:  95.3% angle:  95.3%\n",
      "Optimization Iteration:   3501, Training Accuracy length:  87.5% width: 100.0% colour:  95.3% angle:  98.4%\n",
      "Optimization Iteration:   3601, Training Accuracy length:  92.2% width:  90.6% colour:  95.3% angle:  98.4%\n",
      "Optimization Iteration:   3701, Training Accuracy length:  89.1% width:  98.4% colour:  96.9% angle:  96.9%\n",
      "Optimization Iteration:   3801, Training Accuracy length:  75.0% width:  98.4% colour:  98.4% angle:  96.9%\n",
      "Optimization Iteration:   3901, Training Accuracy length:  95.3% width:  96.9% colour:  98.4% angle:  95.3%\n",
      "Optimization Iteration:   4001, Training Accuracy length:  95.3% width:  96.9% colour:  90.6% angle:  96.9%\n",
      "Optimization Iteration:   4101, Training Accuracy length:  95.3% width:  89.1% colour:  95.3% angle:  93.8%\n",
      "Optimization Iteration:   4201, Training Accuracy length:  93.8% width: 100.0% colour:  95.3% angle:  98.4%\n",
      "Optimization Iteration:   4301, Training Accuracy length:  90.6% width:  96.9% colour: 100.0% angle: 100.0%\n",
      "Optimization Iteration:   4401, Training Accuracy length:  90.6% width:  93.8% colour: 100.0% angle:  98.4%\n",
      "Optimization Iteration:   4501, Training Accuracy length:  95.3% width:  95.3% colour:  98.4% angle:  98.4%\n",
      "Optimization Iteration:   4601, Training Accuracy length:  98.4% width:  96.9% colour:  98.4% angle:  96.9%\n",
      "Optimization Iteration:   4701, Training Accuracy length:  95.3% width:  96.9% colour:  92.2% angle:  98.4%\n",
      "Optimization Iteration:   4801, Training Accuracy length:  98.4% width:  95.3% colour:  95.3% angle:  95.3%\n",
      "Optimization Iteration:   4901, Training Accuracy length:  96.9% width: 100.0% colour: 100.0% angle: 100.0%\n",
      "Time usage: 0:05:45\n"
     ]
    },
    {
     "data": {
      "image/png": "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\n",
      "text/plain": [
       "<Figure size 432x288 with 1 Axes>"
      ]
     },
     "metadata": {
      "needs_background": "light"
     },
     "output_type": "display_data"
    }
   ],
   "source": [
    "optimize(num_iterations=5000)"
   ]
  },
  {
   "cell_type": "code",
   "execution_count": 20,
   "metadata": {},
   "outputs": [
    {
     "name": "stdout",
     "output_type": "stream",
     "text": [
      "Accuracy on Test-Set Length: 95.5% (22908 / 24000) width: 98.5% (23639 / 24000) colour: 98.6% (23672 / 24000) angle:88.8% (21306 / 24000)\n"
     ]
    }
   ],
   "source": [
    "print_test_accuracy()"
   ]
  },
  {
   "cell_type": "code",
   "execution_count": 21,
   "metadata": {},
   "outputs": [
    {
     "name": "stdout",
     "output_type": "stream",
     "text": [
      "Model saved in path: /Users/momo/Desktop/assignment2/model1.ckpt-5000\n"
     ]
    }
   ],
   "source": [
    "saver = tf.train.Saver()\n",
    "save_path = saver.save(session, \"/Users/momo/Desktop/assignment2/model1.ckpt\",global_step=5000)\n",
    "print(\"Model saved in path: %s\" % save_path)"
   ]
  },
  {
   "cell_type": "code",
   "execution_count": 24,
   "metadata": {},
   "outputs": [],
   "source": [
    "def print_confusion_matrix(x_test,y_test,y_test_cls,y_pred_cls,feed_y,num_classes):\n",
    "    feed_dict = {x: x_test,\n",
    "                 feed_y : y_test_cls}\n",
    "    cls_true = y_test\n",
    "    cls_pred = session.run(y_pred_cls, feed_dict=feed_dict)\n",
    "    cm = confusion_matrix(y_true=cls_true,\n",
    "                          y_pred=cls_pred)\n",
    "    print(cm)\n",
    "    plt.imshow(cm, interpolation='nearest', cmap=plt.cm.Blues)\n",
    "    plt.tight_layout()\n",
    "    plt.colorbar()\n",
    "    tick_marks = np.arange(num_classes)\n",
    "    plt.xticks(tick_marks, range(num_classes))\n",
    "    plt.yticks(tick_marks, range(num_classes))\n",
    "    plt.xlabel('Predicted')\n",
    "    plt.ylabel('True')\n",
    "    plt.show()\n",
    "    return(cm)"
   ]
  },
  {
   "cell_type": "code",
   "execution_count": 25,
   "metadata": {},
   "outputs": [
    {
     "name": "stdout",
     "output_type": "stream",
     "text": [
      "[[11965     0]\n",
      " [ 1092 10943]]\n"
     ]
    },
    {
     "data": {
      "image/png": "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\n",
      "text/plain": [
       "<Figure size 432x288 with 2 Axes>"
      ]
     },
     "metadata": {
      "needs_background": "light"
     },
     "output_type": "display_data"
    }
   ],
   "source": [
    "cm_len = print_confusion_matrix(x_test,y_len_int_test,y_len_int_test,y_len_pred_cls,y_len_true,2)"
   ]
  },
  {
   "cell_type": "code",
   "execution_count": 26,
   "metadata": {},
   "outputs": [
    {
     "name": "stdout",
     "output_type": "stream",
     "text": [
      "[[11952     0]\n",
      " [  361 11687]]\n"
     ]
    },
    {
     "data": {
      "image/png": "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\n",
      "text/plain": [
       "<Figure size 432x288 with 2 Axes>"
      ]
     },
     "metadata": {
      "needs_background": "light"
     },
     "output_type": "display_data"
    }
   ],
   "source": [
    "cm_wid = print_confusion_matrix(x_test,y_wid_int_test,y_wid_int_test,y_wid_pred_cls,y_wid_true,2)"
   ]
  },
  {
   "cell_type": "code",
   "execution_count": 27,
   "metadata": {},
   "outputs": [
    {
     "name": "stdout",
     "output_type": "stream",
     "text": [
      "[[12108     5]\n",
      " [  323 11564]]\n"
     ]
    },
    {
     "data": {
      "image/png": "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\n",
      "text/plain": [
       "<Figure size 432x288 with 2 Axes>"
      ]
     },
     "metadata": {
      "needs_background": "light"
     },
     "output_type": "display_data"
    }
   ],
   "source": [
    "cm_col = print_confusion_matrix(x_test,y_col_int_test,y_col_int_test,y_col_pred_cls,y_col_true,2)"
   ]
  },
  {
   "cell_type": "code",
   "execution_count": 28,
   "metadata": {},
   "outputs": [
    {
     "name": "stdout",
     "output_type": "stream",
     "text": [
      "[[1887   26    2    0    0    0    1    0    0    0    9  102]\n",
      " [ 105 1581  367    0    0    0    0    0    0    0    0    2]\n",
      " [   0    7 1591  408    0    0    0    0    0    0    0    0]\n",
      " [   0    0    6 1924   14    0    0    0    0    0    0    0]\n",
      " [   0    0    0  110 1839   74    0    0    0    0    0    0]\n",
      " [   0    0    0    0   33 1911   41    0    0    0    0    0]\n",
      " [   0    0    0    0    3   92 1865    6    0    0    1    0]\n",
      " [   0    0    0    0    0    0  395 1587   10    3    0    0]\n",
      " [   0    0    0    0    0    0    0  236 1772   27    0    0]\n",
      " [   0    0    0    0    0    0    0    0    5 1869  100    0]\n",
      " [   2    0    0    0    0    0    0    0    0   22 1844   91]\n",
      " [ 117    0    0    0    0    0    0    0    0    0  277 1636]]\n"
     ]
    },
    {
     "data": {
      "image/png": "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\n",
      "text/plain": [
       "<Figure size 432x288 with 2 Axes>"
      ]
     },
     "metadata": {
      "needs_background": "light"
     },
     "output_type": "display_data"
    }
   ],
   "source": [
    "cm_ang = print_confusion_matrix(x_test,y_ang_int_test,y_ang_test,y_ang_pred_cls,y_ang_true,12)"
   ]
  },
  {
   "cell_type": "code",
   "execution_count": 29,
   "metadata": {},
   "outputs": [],
   "source": [
    "def find_performance_matrix(cm, num_classes):\n",
    "    performance_matrix = [[0, 0, 0]] * num_classes\n",
    "    for class_num in range(num_classes):\n",
    "        performance_matrix[class_num][0] = find_precision(cm, class_num,num_classes)\n",
    "    for class_num in range(num_classes):\n",
    "        performance_matrix[class_num][1] = find_recall_rate(cm, class_num,num_classes)\n",
    "    for class_num in range(num_classes):\n",
    "        performance_matrix[class_num][2] = find_f_score(performance_matrix[class_num])\n",
    "\n",
    "    #find mean precision, mean recall rate and mean f score\n",
    "    for metric in range(3):\n",
    "        total = 0\n",
    "        for i in range(num_classes):\n",
    "            total += performance_matrix[i][metric]\n",
    "\n",
    "        performance_matrix[num_classes - 1][metric] = total / num_classes\n",
    "\n",
    "    round_off_performance_matrix(performance_matrix)\n",
    "\n",
    "    return performance_matrix\n",
    "\n",
    "def round_off_performance_matrix(performance_matrix):\n",
    "    for i in range(len(performance_matrix)):\n",
    "        for j in range(len(performance_matrix[i])):\n",
    "            performance_matrix[i][j] = round(performance_matrix[i][j], 2)\n",
    "\n",
    "\n",
    "def find_precision(cm, class_num,num_classes):\n",
    "    total_samples_classfied_as_class_num = 0\n",
    "    for i in range(num_classes):\n",
    "        total_samples_classfied_as_class_num += cm[i][class_num]\n",
    "    precision_rate = (cm[class_num][class_num] / total_samples_classfied_as_class_num) * 100\n",
    "\n",
    "    return precision_rate\n",
    "\n",
    "def find_recall_rate(cm, class_num,num_classes):\n",
    "    total_samples_in_class = 0\n",
    "    for j in range(num_classes):\n",
    "        total_samples_in_class += cm[class_num][j]\n",
    "    recall_rate = (cm[class_num][class_num] / total_samples_in_class) * 100\n",
    "\n",
    "    return recall_rate\n",
    "\n",
    "def find_f_score(array):\n",
    "    precision = array[0]\n",
    "    recall = array[1]\n",
    "    f_score = (precision * recall) / ((precision + recall) / 2)\n",
    "\n",
    "    return f_score"
   ]
  },
  {
   "cell_type": "code",
   "execution_count": 30,
   "metadata": {},
   "outputs": [
    {
     "name": "stdout",
     "output_type": "stream",
     "text": [
      "[[100.0, 90.93, 95.25], [100.0, 90.93, 95.25]]\n",
      "95.25\n"
     ]
    }
   ],
   "source": [
    "pm_len = find_performance_matrix(cm_len,2)\n",
    "print(pm_len)\n",
    "f_score_len = pm_len[-1][-1]\n",
    "print(f_score_len)"
   ]
  },
  {
   "cell_type": "code",
   "execution_count": 31,
   "metadata": {},
   "outputs": [
    {
     "name": "stdout",
     "output_type": "stream",
     "text": [
      "[[100.0, 97.0, 98.48], [100.0, 97.0, 98.48]]\n",
      "98.48\n"
     ]
    }
   ],
   "source": [
    "pm_wid = find_performance_matrix(cm_wid,2)\n",
    "print(pm_wid)\n",
    "f_score_wid = pm_wid[-1][-1]\n",
    "print(f_score_wid)"
   ]
  },
  {
   "cell_type": "code",
   "execution_count": 32,
   "metadata": {},
   "outputs": [
    {
     "name": "stdout",
     "output_type": "stream",
     "text": [
      "[[99.96, 97.28, 98.6], [99.96, 97.28, 98.6]]\n",
      "98.6\n"
     ]
    }
   ],
   "source": [
    "pm_col = find_performance_matrix(cm_col,2)\n",
    "print(pm_col)\n",
    "f_score_col = pm_col[-1][-1]\n",
    "print(f_score_col)"
   ]
  },
  {
   "cell_type": "code",
   "execution_count": 33,
   "metadata": {},
   "outputs": [
    {
     "name": "stdout",
     "output_type": "stream",
     "text": [
      "[[98.38, 93.77, 96.02], [98.38, 93.77, 96.02]]\n",
      "96.02\n"
     ]
    }
   ],
   "source": [
    "pm_ang = find_performance_matrix(cm_ang,2)\n",
    "print(pm_ang)\n",
    "f_score_ang = pm_ang[-1][-1]\n",
    "print(f_score_ang)"
   ]
  },
  {
   "cell_type": "code",
   "execution_count": 34,
   "metadata": {},
   "outputs": [],
   "source": [
    "session.close()"
   ]
  },
  {
   "cell_type": "code",
   "execution_count": null,
   "metadata": {},
   "outputs": [],
   "source": []
  }
 ],
 "metadata": {
  "kernelspec": {
   "display_name": "Python 3",
   "language": "python",
   "name": "python3"
  },
  "language_info": {
   "codemirror_mode": {
    "name": "ipython",
    "version": 3
   },
   "file_extension": ".py",
   "mimetype": "text/x-python",
   "name": "python",
   "nbconvert_exporter": "python",
   "pygments_lexer": "ipython3",
   "version": "3.6.5"
  }
 },
 "nbformat": 4,
 "nbformat_minor": 2
}
